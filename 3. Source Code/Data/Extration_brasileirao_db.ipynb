{
 "cells": [
  {
   "cell_type": "code",
   "execution_count": 3,
   "id": "9d65f7c0",
   "metadata": {},
   "outputs": [],
   "source": [
    "import pandas as pd\n",
    "import ETL\n",
    "import importlib\n",
    "importlib.reload(ETL)\n",
    "\n",
    "pd.set_option('display.max_columns', None)\n",
    "\n",
    "path = r\"C:\\Users\\USER\\Desktop\\GitHub\\Brasileirao-Analise\\1. Data\\Raw\"\n",
    "\n",
    "# Banco de dados org \n",
    "df_org = pd.read_csv(path+\"/BDorg/jogos.gz\", compression=\"gzip\")\n",
    "\n",
    "# Kaggle Adão\n",
    "df_KG_AD_jogos = pd.read_csv(path+\"/kaggle_AD/jogos.csv\", sep=\",\")\n",
    "df_KG_AD_gols = pd.read_csv(path+\"/kaggle_AD/gols.csv\", sep=\",\")\n",
    "df_KG_AD_estatisticas = pd.read_csv(path+\"/kaggle_AD/estatisticas.csv\", sep=\",\")\n",
    "df_KG_AD_cartoes = pd.read_csv(path+\"/kaggle_AD/cartoes.csv\", sep=\",\")\n",
    "\n",
    "#GH Hugo Brendow\n",
    "df_GH_HB_jogos = pd.read_csv(path+\"/GH_HugoBrendow/jogos.csv\")\n",
    "\n",
    "#GH Henrique\n",
    "df_GH_Henr_jogos = pd.read_csv(path+\"/GH_Henrique/jogos.csv\")\n",
    "df_GH_Henr_gols = pd.read_csv(path+\"/GH_Henrique/gols.csv\") \n",
    "df_GH_Henr_cartoes = pd.read_csv(path+\"/GH_Henrique/cartoes.csv\")\n",
    "\n",
    "#GH Fabrimatt\n",
    "df_GH_Fab_jogos = pd.read_excel(path+\"/GH_Fabrimatt/jogos_stat.xlsx\")\n",
    "\n",
    "#GH Arruda\n",
    "df_GH_Ard_jogos = ETL.unir_xlsx_em_df(path+\"/GH_Arruda/dados/jogos\")\n",
    "\n",
    "##GH Avelar\n",
    "#df_GH_Ave_jogos = json.load(path+\"/GH_Avelar/2003/2003.json\")\n"
   ]
  },
  {
   "cell_type": "code",
   "execution_count": 39,
   "id": "38d3bef2",
   "metadata": {},
   "outputs": [
    {
     "ename": "AttributeError",
     "evalue": "module 'ETL' has no attribute 'ler_json'",
     "output_type": "error",
     "traceback": [
      "\u001b[1;31m---------------------------------------------------------------------------\u001b[0m",
      "\u001b[1;31mAttributeError\u001b[0m                            Traceback (most recent call last)",
      "Cell \u001b[1;32mIn[39], line 3\u001b[0m\n\u001b[0;32m      1\u001b[0m path \u001b[38;5;241m=\u001b[39m \u001b[38;5;124mr\u001b[39m\u001b[38;5;124m'\u001b[39m\u001b[38;5;124mC:\u001b[39m\u001b[38;5;124m\\\u001b[39m\u001b[38;5;124mUsers\u001b[39m\u001b[38;5;124m\\\u001b[39m\u001b[38;5;124mUSER\u001b[39m\u001b[38;5;124m\\\u001b[39m\u001b[38;5;124mDesktop\u001b[39m\u001b[38;5;124m\\\u001b[39m\u001b[38;5;124mGitHub\u001b[39m\u001b[38;5;124m\\\u001b[39m\u001b[38;5;124mBrasileirao-Analise\u001b[39m\u001b[38;5;124m\\\u001b[39m\u001b[38;5;124m1. Data\u001b[39m\u001b[38;5;124m\\\u001b[39m\u001b[38;5;124mRaw\u001b[39m\u001b[38;5;124m\\\u001b[39m\u001b[38;5;124mGH_Avelar\u001b[39m\u001b[38;5;124m\\\u001b[39m\u001b[38;5;124m2003\u001b[39m\u001b[38;5;124m\\\u001b[39m\u001b[38;5;124m2003.json\u001b[39m\u001b[38;5;124m'\u001b[39m\n\u001b[1;32m----> 3\u001b[0m df \u001b[38;5;241m=\u001b[39m \u001b[43mETL\u001b[49m\u001b[38;5;241;43m.\u001b[39;49m\u001b[43mler_json\u001b[49m(path)\n\u001b[0;32m      6\u001b[0m \u001b[38;5;66;03m# Criar DataFrame\u001b[39;00m\n\u001b[0;32m      7\u001b[0m df \u001b[38;5;241m=\u001b[39m pd\u001b[38;5;241m.\u001b[39mDataFrame(df[\u001b[38;5;124m'\u001b[39m\u001b[38;5;124mpartidas\u001b[39m\u001b[38;5;124m'\u001b[39m][\u001b[38;5;241m0\u001b[39m])\n",
      "\u001b[1;31mAttributeError\u001b[0m: module 'ETL' has no attribute 'ler_json'"
     ]
    }
   ],
   "source": [
    "path = r'C:\\Users\\USER\\Desktop\\GitHub\\Brasileirao-Analise\\1. Data\\Raw\\GH_Avelar\\2003\\2003.json'\n",
    "\n",
    "df = ETL.ler_json(path)\n",
    "\n",
    "\n",
    "# Criar DataFrame\n",
    "df = pd.DataFrame(df['partidas'][0])\n",
    "\n",
    "# Ajustar colunas aninhadas (opcional)\n",
    "# Vamos expandir as colunas de pontuação geral em colunas separadas\n",
    "def expandir_pontuacao(df, prefixo):\n",
    "    pontuacao = pd.json_normalize(df[f'pontuacao_geral_{prefixo}'])\n",
    "    pontuacao.columns = [f'{prefixo}_{col}' for col in pontuacao.columns]\n",
    "    return pontuacao\n",
    "\n",
    "pontuacao_mandante = expandir_pontuacao(df, 'mandante')\n",
    "pontuacao_visitante = expandir_pontuacao(df, 'visitante')\n",
    "\n",
    "# Juntar tudo em um único DataFrame\n",
    "df_final = pd.concat([\n",
    "    df.drop(['pontuacao_geral_mandante', 'pontuacao_geral_visitante'], axis=1),\n",
    "    pontuacao_mandante,\n",
    "    pontuacao_visitante\n",
    "], axis=1)\n",
    "\n",
    "# Mostrar as primeiras linhas\n",
    "display(df_final.head(12))"
   ]
  }
 ],
 "metadata": {
  "kernelspec": {
   "display_name": "Python 3",
   "language": "python",
   "name": "python3"
  },
  "language_info": {
   "codemirror_mode": {
    "name": "ipython",
    "version": 3
   },
   "file_extension": ".py",
   "mimetype": "text/x-python",
   "name": "python",
   "nbconvert_exporter": "python",
   "pygments_lexer": "ipython3",
   "version": "3.12.4"
  }
 },
 "nbformat": 4,
 "nbformat_minor": 5
}
