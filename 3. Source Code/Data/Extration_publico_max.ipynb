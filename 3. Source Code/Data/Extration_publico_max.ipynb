{
 "cells": [
  {
   "cell_type": "code",
   "execution_count": 94,
   "id": "ef4effea",
   "metadata": {},
   "outputs": [],
   "source": [
    "import requests\n",
    "from bs4 import BeautifulSoup\n",
    "import pandas as pd\n",
    "import sys\n",
    "import json\n",
    "\n",
    "# Adicione apenas a pasta, não o arquivo .py\n",
    "sys.path.append(r'C:\\Users\\USER\\Desktop\\GitHub\\Brasileirao-Analise\\3. Source Code\\Transformed')\n",
    "import datadetox as detox\n"
   ]
  },
  {
   "cell_type": "code",
   "execution_count": null,
   "id": "26666841",
   "metadata": {},
   "outputs": [],
   "source": [
    "# URL da página\n",
    "url = \"https://www.transfermarkt.com.br/campeonato-brasileiro-serie-a/besucherzahlen/wettbewerb/BRA1/plus/1?saison_id=\"\n",
    "\n",
    "# Cabeçalhos para simular um navegador\n",
    "headers = {\"User-Agent\": \"Mozilla/5.0 (Windows NT 10.0; Win64; x64) AppleWebKit/537.36 (KHTML, like Gecko) Chrome/123.0.0.0 Safari/537.36\"}\n",
    "\n",
    "df = pd.DataFrame(columns=[\"Estadio\", \"Clube\", \"Capacidade\", \"Publico Anual\", \"Media\", \"Num Jogos\"])\n",
    "\n",
    "for season in range (2002,2024):\n",
    "    url_season = url+str(season)\n",
    "    # Requisição HTTP\n",
    "    response = requests.get(url_season, headers=headers)\n",
    "    soup = BeautifulSoup(response.content, 'html.parser')\n",
    "\n",
    "    # Tabela com os dados de público\n",
    "    table = soup.find(\"table\", class_=\"items\")\n",
    "\n",
    "    # Extração de linhas\n",
    "    rows = table.find_all(\"tr\", class_=[\"odd\", \"even\"])\n",
    "\n",
    "    data = []\n",
    "    for row in rows:\n",
    "        cols = row.find_all(\"td\")\n",
    "        if len(cols) >= 6:\n",
    "            estadio = cols[3].text.strip()\n",
    "            clube = cols[4].text.strip().replace('.', '').replace('-', '0')\n",
    "            capacidade = cols[5].text.strip().replace('.', '').replace('-', '0')\n",
    "            publico_anual = cols[6].text.strip().replace('.', '').replace('-', '0')\n",
    "            media = cols[7].text.strip().replace('.', '').replace('-', '0')\n",
    "            num_jogos = cols[8].text.strip().replace('%', '').replace('-', '0')\n",
    "            data.append([estadio,clube,int(capacidade),int(publico_anual),int(media),int(num_jogos)])\n",
    "\n",
    "    # Criar DataFrame\n",
    "    df_aux = pd.DataFrame(data, columns=[\"Estadio\", \"Clube\", \"Capacidade\", \"Publico Anual\", \"Media\", \"Num Jogos\"])\n",
    "    df_aux['Temporada'] = season+1\n",
    "    # Exibir amostra\n",
    "    df = pd.concat([df,df_aux],ignore_index=True)\n",
    "\n",
    "\n",
    "df['Estadio'] = df['Estadio'].apply(detox.normalizar_texto)\n",
    "df['Estadio'] = df['Estadio'].str.replace(r'\\bestadio\\b', '', regex=True).str.strip()\n",
    "df['Estadio'] = df['Estadio'].str.replace(r'\\(\\*pf\\)', '', regex=True).str.strip()\n",
    "df['Estadio'] = df['Estadio'].str.replace(r'\\*\\(pf\\)', '', regex=True)\n",
    "\n",
    "mapeamento_estadios = detox.ler_json_as_dict(r'C:\\Users\\USER\\Desktop\\GitHub\\Brasileirao-Analise\\3. Source Code\\Transformed\\arenas_dict.json')\n",
    "df['Estadio'] = df['Estadio'].replace(mapeamento_estadios)\n",
    "\n",
    "\n",
    "# #Salvar em CSV\n",
    "# df_final.to_excel(\"publico_brasileirao.xlsx\", index=False)\n",
    "\n",
    "dfgroup = df.groupby(by='Estadio',dropna=True)['Capacidade']\n",
    "\n",
    "maximos_por_estadio = dfgroup.min().to_dict()\n",
    "with open(\"estadios.json\", \"w\", encoding=\"utf-8\") as f:\n",
    "    json.dump(maximos_por_estadio, f, ensure_ascii=False, indent=2)\n"
   ]
  }
 ],
 "metadata": {
  "kernelspec": {
   "display_name": "Python 3",
   "language": "python",
   "name": "python3"
  },
  "language_info": {
   "codemirror_mode": {
    "name": "ipython",
    "version": 3
   },
   "file_extension": ".py",
   "mimetype": "text/x-python",
   "name": "python",
   "nbconvert_exporter": "python",
   "pygments_lexer": "ipython3",
   "version": "3.11.9"
  }
 },
 "nbformat": 4,
 "nbformat_minor": 5
}
