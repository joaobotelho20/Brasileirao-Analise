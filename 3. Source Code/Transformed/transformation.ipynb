{
 "cells": [
  {
   "cell_type": "code",
   "execution_count": 1,
   "id": "ea3c82f5",
   "metadata": {},
   "outputs": [],
   "source": [
    "# !pip install -U torch transformers accelerate sentence-transformers\n",
    "# !pip install -U torch transformers accelerate sentence-transformers\n",
    "# !pip uninstall spellchecker -y\n",
    "# !pip install pyspellchecker\n",
    "# !pip install unidecode\n",
    "# !pip install scikit-learn  # For cosine_similarity and numpy (it's a dependency)\n",
    "# !pip install sentence-transformers\n",
    "# !pip install pandas\n",
    "#!pip install ipywidgets\n",
    "\n",
    "import re\n",
    "import unidecode\n",
    "from spellchecker import SpellChecker\n",
    "from sentence_transformers import SentenceTransformer\n",
    "from sklearn.metrics.pairwise import cosine_similarity\n",
    "import numpy as np\n",
    "import pandas as pd\n",
    "import datadetox as detox\n",
    "import importlib"
   ]
  },
  {
   "cell_type": "markdown",
   "id": "be09036e",
   "metadata": {},
   "source": [
    "Leitura e padronização de colunas de chaves primarias para concatenação de dfs"
   ]
  },
  {
   "cell_type": "code",
   "execution_count": 169,
   "id": "7a17ab58",
   "metadata": {},
   "outputs": [
    {
     "name": "stdout",
     "output_type": "stream",
     "text": [
      "DataFrame 0: Já é datetime64, mantido como está.\n",
      "DataFrame 1: Convertendo padrão com '/'\n",
      "DataFrame 2: Convertendo padrão com '/'\n",
      "DataFrame 3: Convertendo padrão com '/'\n",
      "DataFrame 4: Convertendo padrão ISO com '-'\n",
      "DataFrame 5: Já é datetime64, mantido como está.\n"
     ]
    }
   ],
   "source": [
    "pd.set_option('display.max_columns', None)\n",
    "path = r'C:\\Users\\USER\\Desktop\\GitHub\\Brasileirao-Analise\\1. Data\\Transformed'\n",
    "\n",
    "#Games \n",
    "df_list = []\n",
    "for i in range(1, 7):\n",
    "    df = pd.read_excel(path + f'\\\\0{i}_games.xlsx')\n",
    "    df_list.append(df)\n",
    "\n",
    "#fitragem série B comjunto 5\n",
    "df_list[4] = df_list[4][df_list[4]['Série']=='A']\n",
    "\n",
    "# mapeamento_colunas chave primária\n",
    "mapeamento_colunas = {  'data': 'Data','Date': 'Data','data_partida': 'Data',\n",
    "                        'time_mandante': 'Mandante','mandante': 'Mandante','Home': 'Mandante',\n",
    "                        'time_visitante': 'Visitante','visitante': 'Visitante','Away': 'Visitante'}\n",
    "    \n",
    "\n",
    "df_list = [df.rename(columns=mapeamento_colunas) for df in df_list]\n",
    "\n",
    "df_list = detox.padronizar_datas(df_list)"
   ]
  },
  {
   "cell_type": "markdown",
   "id": "636f798d",
   "metadata": {},
   "source": [
    "Unir todos os DFs com agrupamento por colunas, Data, Mandante e Visitante"
   ]
  },
  {
   "cell_type": "code",
   "execution_count": 170,
   "id": "c16a3459",
   "metadata": {},
   "outputs": [],
   "source": [
    "#mapear cluber qeu o filtro BERT nao resolve (manualmente)\n",
    "clubes_map_inicial = {  \"America-RN\":\"América Natal\",\"América-RN\":\"América Natal\",\"América rn\":\"América Natal\",\n",
    "                        \"Joinvile\":\"Joinville\",\n",
    "                        \"Atlético pr\":\"Athlético-PR\",\"Atlético-PR\":\"Athlético-PR\", \n",
    "                        \"Grêmio Prudente\":\"Barueri\",\"Grêmio prudente\":\"Barueri\",\"Gremio Prudente\":\"Barueri\"}\n",
    "\n",
    "for df in df_list:\n",
    "    df['Mandante'] = df['Mandante'].replace(clubes_map_inicial)\n",
    "    df['Visitante'] = df['Visitante'].replace(clubes_map_inicial)\n",
    "\n",
    "# listar clubes Mandantes e visitantes, para agrupar ortograficamente\n",
    "clubes_unicos = []\n",
    "for df in df_list:\n",
    "    unicos_por_bd = pd.unique(np.concatenate([df['Mandante'].values, df['Visitante'].values])).tolist()\n",
    "    clubes_unicos = list(set(clubes_unicos) | set(unicos_por_bd))\n",
    "\n",
    "clubes_value_dict = [   \"América Mineiro\", \"América Natal\", \"Athletico Paranaense\", \"Atlético Goianiense\", \"Atlético Mineiro\", \"Avaí\", \"Bahia\", \n",
    "                        \"Barueri\", \"Botafogo\", \"Red Bull Bragantino\", \"Brasiliense\", \"Ceará\", \n",
    "                        \"Chapecoense\", \"Corinthians\", \"Coritiba\", \"Criciúma\", \"Cruzeiro\", \"CSA\", \"Cuiabá\", \"Figueirense\", \"Flamengo\", \"Fluminense\", \n",
    "                        \"Fortaleza\",\"Guarani\", \"Goiás\", \"Grêmio\", \"Grêmio Prudente\", \"Internacional\", \"Ipatinga\", \"Joinville\", \"Juventude\",\"Mirassol\", \"Náutico\", \n",
    "                        \"Palmeiras\", \"Paraná\", \"Paysandu\", \"Ponte Preta\", \"Portuguesa\", \"Santa Cruz\", \"Santo André\", \"Santos\", \"São Caetano\", \"São Paulo\", \n",
    "                        \"Sport Recife\", \"Vasco da Gama\", \"Vitória\"]\n",
    "\n",
    "modelo = SentenceTransformer('all-MiniLM-L6-v2')\n",
    "clubes_corrigidos = detox.corrigir_times_semanticamente(clubes_unicos, clubes_value_dict,modelo)\n",
    "clubes_dict = detox.gerar_dicionario_mapeamento(clubes_corrigidos, limite=0.0)\n",
    "\n",
    "# corrigindo e agrupando clubes em todos os dataframes\n",
    "for df in df_list:\n",
    "    df['Mandante'] = df['Mandante'].replace(clubes_dict)\n",
    "    df['Visitante'] = df['Visitante'].replace(clubes_dict)\n",
    "\n",
    "# unindo todos os dfs com merge on=['Data','Mandante','Visitante']\n",
    "df_merged = pd.DataFrame(columns=['Data','Mandante','Visitante'])\n",
    "for i,df in enumerate(df_list):\n",
    "    df_merged = pd.merge(df_merged, df, how='outer', on=['Data','Mandante','Visitante'],suffixes=('', f'_{i}'))\n"
   ]
  },
  {
   "cell_type": "code",
   "execution_count": 171,
   "id": "9a0b8c01",
   "metadata": {},
   "outputs": [],
   "source": [
    "pd.set_option('display.max_rows', None)\n",
    "import datetime as dt\n",
    "df = df_merged.copy()\n",
    "\n",
    "# Criar edições dos campeonatos visto que 2020 foi ate 2021\n",
    "mask = (df['Data'] > dt.datetime(2020, 8, 1)) & (df['Data'] < dt.datetime(2021, 2, 28))\n",
    "df.loc[mask, 'edition'] = 2020\n",
    "df.loc[~mask, 'edition'] = df.loc[~mask, 'Data'].dt.year\n",
    "\n",
    "df.sort_values(by=['Mandante', 'Visitante','edition','Data'], ascending=[True, True, True, True], inplace=True)\n",
    "#df.head(10)"
   ]
  },
  {
   "cell_type": "code",
   "execution_count": 174,
   "id": "dcf1175b",
   "metadata": {},
   "outputs": [
    {
     "name": "stderr",
     "output_type": "stream",
     "text": [
      "C:\\Users\\USER\\AppData\\Local\\Temp\\ipykernel_13184\\2427877954.py:4: DeprecationWarning: DataFrameGroupBy.apply operated on the grouping columns. This behavior is deprecated, and in a future version of pandas the grouping columns will be excluded from the operation. Either pass `include_groups=False` to exclude the groupings or explicitly select the grouping columns after groupby to silence this warning.\n",
      "  df_ajustado = df.groupby(['Mandante', 'Visitante', 'edition'], group_keys=False).apply(detox.ajustar_datas)\n",
      "C:\\Users\\USER\\AppData\\Local\\Temp\\ipykernel_13184\\2427877954.py:9: FutureWarning: The behavior of DataFrame concatenation with empty or all-NA entries is deprecated. In a future version, this will no longer exclude empty or all-NA columns when determining the result dtypes. To retain the old behavior, exclude the relevant entries before the concat operation.\n",
      "  .apply(detox.mesclar_linhas_sem_conflito)\n",
      "C:\\Users\\USER\\AppData\\Local\\Temp\\ipykernel_13184\\2427877954.py:9: DeprecationWarning: DataFrameGroupBy.apply operated on the grouping columns. This behavior is deprecated, and in a future version of pandas the grouping columns will be excluded from the operation. Either pass `include_groups=False` to exclude the groupings or explicitly select the grouping columns after groupby to silence this warning.\n",
      "  .apply(detox.mesclar_linhas_sem_conflito)\n",
      "C:\\Users\\USER\\AppData\\Local\\Temp\\ipykernel_13184\\2427877954.py:14: DeprecationWarning: DataFrameGroupBy.apply operated on the grouping columns. This behavior is deprecated, and in a future version of pandas the grouping columns will be excluded from the operation. Either pass `include_groups=False` to exclude the groupings or explicitly select the grouping columns after groupby to silence this warning.\n",
      "  df_group = df_mesclado.groupby(['Mandante', 'Visitante', 'edition'], group_keys=False).apply(\n",
      "C:\\Users\\USER\\AppData\\Local\\Temp\\ipykernel_13184\\2427877954.py:19: FutureWarning: The behavior of DataFrame concatenation with empty or all-NA entries is deprecated. In a future version, this will no longer exclude empty or all-NA columns when determining the result dtypes. To retain the old behavior, exclude the relevant entries before the concat operation.\n",
      "  .apply(detox.mesclar_linhas_sem_conflito)\n",
      "C:\\Users\\USER\\AppData\\Local\\Temp\\ipykernel_13184\\2427877954.py:19: DeprecationWarning: DataFrameGroupBy.apply operated on the grouping columns. This behavior is deprecated, and in a future version of pandas the grouping columns will be excluded from the operation. Either pass `include_groups=False` to exclude the groupings or explicitly select the grouping columns after groupby to silence this warning.\n",
      "  .apply(detox.mesclar_linhas_sem_conflito)\n"
     ]
    }
   ],
   "source": [
    "importlib.reload(detox)\n",
    "\n",
    "# Agrupar e aplicar a função\n",
    "df_ajustado = df.groupby(['Mandante', 'Visitante', 'edition'], group_keys=False).apply(detox.ajustar_datas)\n",
    "\n",
    "# Aplica o agrupamento e mescla as linhas sem conflito\n",
    "df_mesclado = (\n",
    "    df_ajustado.groupby(['Data', 'Mandante', 'Visitante', 'edition'], group_keys=False)\n",
    "      .apply(detox.mesclar_linhas_sem_conflito)\n",
    "      .reset_index(drop=True))\n",
    "\n",
    "df_mesclado = df_mesclado[df_mesclado['edition']<2024]\n",
    "\n",
    "df_group = df_mesclado.groupby(['Mandante', 'Visitante', 'edition'], group_keys=False).apply(\n",
    "    lambda group: detox.ajustar_datas_semdiff(group,keep=True))\n",
    "\n",
    "df_mesclado2 = (\n",
    "    df_group.groupby(['Data', 'Mandante', 'Visitante', 'edition'], group_keys=False)\n",
    "      .apply(detox.mesclar_linhas_sem_conflito)\n",
    "      .reset_index(drop=True))\n",
    "\n",
    "df_mesclado2.to_excel(r'C:\\Users\\USER\\Desktop\\GitHub\\Brasileirao-Analise\\1. Data\\Transformed\\Agrupamento_unico.xlsx',index=False)"
   ]
  },
  {
   "cell_type": "markdown",
   "id": "d1b2b352",
   "metadata": {},
   "source": [
    "Garantindo partidas por temporada"
   ]
  },
  {
   "cell_type": "code",
   "execution_count": 272,
   "id": "340f62f8",
   "metadata": {},
   "outputs": [
    {
     "name": "stdout",
     "output_type": "stream",
     "text": [
      "Edições com número desigual de partidas por time: edition\n",
      "2016    2\n",
      "Name: n_partidas, dtype: int64\n",
      "Edições com número desigual de partidas por time: edition\n",
      "2016    2\n",
      "Name: n_partidas, dtype: int64\n"
     ]
    }
   ],
   "source": [
    "pd.set_option('display.max_columns', None)\n",
    "pd.set_option('display.max_rows', 150)\n",
    "importlib.reload(detox)\n",
    "\n",
    "df = pd.read_excel(r'C:\\Users\\USER\\Desktop\\GitHub\\Brasileirao-Analise\\1. Data\\Transformed\\Agrupamento_unico.xlsx')\n",
    "\n",
    "#ajustando sao paulo e sao caetano jogo interrompido\n",
    "df.drop(1007, inplace=True)\n",
    "\n",
    "# ajustando jogo do flamengo\n",
    "df.loc[2835, 'Data'] = pd.to_datetime('2009-11-07')\n",
    "df.drop(2834, inplace=True)\n",
    "\n",
    "# ajustando jogo do BOTAFOGO\n",
    "df.loc[1969, 'Data'] = pd.to_datetime('2009-07-29')\n",
    "df.drop(1968, inplace=True)\n",
    "\n",
    "# ajustando jogo da chapecoense\n",
    "df.drop(5753, inplace=True)\n",
    "\n",
    "#2005\n",
    "df.drop([1137,1137,1207,1231,1257,1284,1307,1310,1328,1341,1375,1379], inplace=True)\n",
    "df.loc[1138, 'Data'] = pd.to_datetime('2009-10-19')\n",
    "df.loc[1208, 'Data'] = pd.to_datetime('2009-10-19')\n",
    "df.loc[1232, 'Data'] = pd.to_datetime('2009-10-19')\n",
    "df.loc[1258, 'Data'] = pd.to_datetime('2009-10-19')\n",
    "df.loc[1285, 'Data'] = pd.to_datetime('2009-10-19')\n",
    "df.loc[1308, 'Data'] = pd.to_datetime('2009-10-19')\n",
    "df.loc[1311, 'Data'] = pd.to_datetime('2009-10-19')\n",
    "df.loc[1329, 'Data'] = pd.to_datetime('2009-10-19')\n",
    "df.loc[1342, 'Data'] = pd.to_datetime('2009-10-19')\n",
    "df.loc[1376, 'Data'] = pd.to_datetime('2009-10-19')\n",
    "df.loc[1380, 'Data'] = pd.to_datetime('2009-10-19')\n",
    "\n",
    "#2007 \n",
    "df.drop([1970,1971], inplace=True)\n",
    "\n",
    "\n",
    "detox.verifica_partidas_edi(df,'edition','Mandante')\n",
    "detox.verifica_partidas_edi(df,'edition','Visitante')\n",
    "\n",
    "df.to_excel(r'C:\\Users\\USER\\Desktop\\GitHub\\Brasileirao-Analise\\1. Data\\Transformed\\Num_partidas.xlsx',index=False)"
   ]
  },
  {
   "cell_type": "markdown",
   "id": "2e3af196",
   "metadata": {},
   "source": [
    "Meslclando Colunas"
   ]
  },
  {
   "cell_type": "code",
   "execution_count": 8,
   "id": "b49ebcb8",
   "metadata": {},
   "outputs": [
    {
     "name": "stdout",
     "output_type": "stream",
     "text": [
      "<class 'pandas.core.frame.DataFrame'>\n",
      "RangeIndex: 8405 entries, 0 to 8404\n",
      "Data columns (total 38 columns):\n",
      " #   Column              Non-Null Count  Dtype         \n",
      "---  ------              --------------  -----         \n",
      " 0   Temporada           8405 non-null   int64         \n",
      " 1   Data                8405 non-null   datetime64[ns]\n",
      " 2   Mandante            8405 non-null   object        \n",
      " 3   Visitante           8405 non-null   object        \n",
      " 4   arbitro             6459 non-null   object        \n",
      " 5   publico             6459 non-null   float64       \n",
      " 6   publico_max         3906 non-null   float64       \n",
      " 7   gols_mandante       7788 non-null   float64       \n",
      " 8   mandante_Placar     8404 non-null   float64       \n",
      " 9   Mandante Placar     7261 non-null   float64       \n",
      " 10  mandante_Placar_3   8024 non-null   float64       \n",
      " 11  Gol Mandante        3799 non-null   float64       \n",
      " 12  placar_mandante     4788 non-null   float64       \n",
      " 13  gols_visitante      7788 non-null   float64       \n",
      " 14  visitante_Placar    8404 non-null   float64       \n",
      " 15  Visitante Placar    7261 non-null   float64       \n",
      " 16  visitante_Placar_3  8024 non-null   float64       \n",
      " 17  Gol Visitante       3799 non-null   float64       \n",
      " 18  placar_visitante    4788 non-null   float64       \n",
      " 19  arena               8404 non-null   object        \n",
      " 20  Arena               7261 non-null   object        \n",
      " 21  arena_3             8024 non-null   object        \n",
      " 22  Estádio             3799 non-null   object        \n",
      " 23  estadio             1944 non-null   object        \n",
      " 24  mandante_Estado     8404 non-null   object        \n",
      " 25  Horário             7250 non-null   object        \n",
      " 26  hora                8404 non-null   object        \n",
      " 27  hora_3              8024 non-null   object        \n",
      " 28  Hora                3799 non-null   object        \n",
      " 29  hora_partida        1946 non-null   object        \n",
      " 30  mandante_Estado_3   8024 non-null   object        \n",
      " 31  Estado Mandante     7261 non-null   object        \n",
      " 32  UF                  3799 non-null   object        \n",
      " 33  UF Mandante         3799 non-null   object        \n",
      " 34  Cidade              3799 non-null   object        \n",
      " 35  Turno               3799 non-null   float64       \n",
      " 36  Dia da Semana       3799 non-null   object        \n",
      " 37  Série               3799 non-null   object        \n",
      "dtypes: datetime64[ns](1), float64(15), int64(1), object(21)\n",
      "memory usage: 2.4+ MB\n"
     ]
    }
   ],
   "source": [
    "df = pd.read_excel(r'C:\\Users\\USER\\Desktop\\GitHub\\Brasileirao-Analise\\1. Data\\Transformed\\Num_partidas.xlsx')\n",
    "df.head(10)\n",
    "df.describe()\n",
    "df.info()"
   ]
  },
  {
   "cell_type": "code",
   "execution_count": 16,
   "id": "f70c0b0c",
   "metadata": {},
   "outputs": [],
   "source": [
    "pd.set_option('display.max_columns', None)\n",
    "gols_mandante = [\"gols_mandante\",\"mandante_Placar\",\"Mandante Placar\",\"mandante_Placar_3\",\"Gol Mandante\",\"placar_mandante\"]\n",
    "gols_visitante = [\"gols_visitante\",\"visitante_Placar\",\"Visitante Placar\",\"visitante_Placar_3\",\"Gol Visitante\",\"placar_visitante\"]\n",
    "\n",
    "df[gols_mandante].nunique(axis=1,dropna=True).value_counts()\n",
    "df[gols_visitante].nunique(axis=1,dropna=True).value_counts()\n",
    "\n",
    "df['gols_mandante_moda'] = df[gols_mandante].mode(axis=1).iloc[:, 0]\n",
    "df['gols_visitante_moda'] = df[gols_visitante].mode(axis=1).iloc[:, 0]\n",
    "df.drop(columns=gols_mandante+gols_visitante, inplace=True)\n"
   ]
  },
  {
   "cell_type": "code",
   "execution_count": 18,
   "id": "7d697b69",
   "metadata": {},
   "outputs": [
    {
     "data": {
      "text/plain": [
       "2    5672\n",
       "1    2176\n",
       "3     556\n",
       "0       1\n",
       "Name: count, dtype: int64"
      ]
     },
     "execution_count": 18,
     "metadata": {},
     "output_type": "execute_result"
    }
   ],
   "source": [
    "colunas_hora = [\"Horário\", \"hora\", \"hora_3\", \"Hora\", \"hora_partida\"]\n",
    "df[colunas_hora].nunique(axis=1,dropna=True).value_counts()"
   ]
  },
  {
   "cell_type": "code",
   "execution_count": 17,
   "id": "78f7c55c",
   "metadata": {},
   "outputs": [
    {
     "name": "stdout",
     "output_type": "stream",
     "text": [
      "<class 'pandas.core.frame.DataFrame'>\n",
      "RangeIndex: 8405 entries, 0 to 8404\n",
      "Data columns (total 28 columns):\n",
      " #   Column               Non-Null Count  Dtype         \n",
      "---  ------               --------------  -----         \n",
      " 0   Temporada            8405 non-null   int64         \n",
      " 1   Data                 8405 non-null   datetime64[ns]\n",
      " 2   Mandante             8405 non-null   object        \n",
      " 3   Visitante            8405 non-null   object        \n",
      " 4   arbitro              6459 non-null   object        \n",
      " 5   publico              6459 non-null   float64       \n",
      " 6   publico_max          3906 non-null   float64       \n",
      " 7   arena                8404 non-null   object        \n",
      " 8   Arena                7261 non-null   object        \n",
      " 9   arena_3              8024 non-null   object        \n",
      " 10  Estádio              3799 non-null   object        \n",
      " 11  estadio              1944 non-null   object        \n",
      " 12  mandante_Estado      8404 non-null   object        \n",
      " 13  Horário              7250 non-null   object        \n",
      " 14  hora                 8404 non-null   object        \n",
      " 15  hora_3               8024 non-null   object        \n",
      " 16  Hora                 3799 non-null   object        \n",
      " 17  hora_partida         1946 non-null   object        \n",
      " 18  mandante_Estado_3    8024 non-null   object        \n",
      " 19  Estado Mandante      7261 non-null   object        \n",
      " 20  UF                   3799 non-null   object        \n",
      " 21  UF Mandante          3799 non-null   object        \n",
      " 22  Cidade               3799 non-null   object        \n",
      " 23  Turno                3799 non-null   float64       \n",
      " 24  Dia da Semana        3799 non-null   object        \n",
      " 25  Série                3799 non-null   object        \n",
      " 26  gols_mandante_moda   8405 non-null   float64       \n",
      " 27  gols_visitante_moda  8405 non-null   float64       \n",
      "dtypes: datetime64[ns](1), float64(5), int64(1), object(21)\n",
      "memory usage: 1.8+ MB\n"
     ]
    }
   ],
   "source": [
    "df.info()"
   ]
  }
 ],
 "metadata": {
  "kernelspec": {
   "display_name": "Python 3",
   "language": "python",
   "name": "python3"
  },
  "language_info": {
   "codemirror_mode": {
    "name": "ipython",
    "version": 3
   },
   "file_extension": ".py",
   "mimetype": "text/x-python",
   "name": "python",
   "nbconvert_exporter": "python",
   "pygments_lexer": "ipython3",
   "version": "3.11.9"
  }
 },
 "nbformat": 4,
 "nbformat_minor": 5
}
